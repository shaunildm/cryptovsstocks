{
 "cells": [
  {
   "cell_type": "markdown",
   "metadata": {},
   "source": [
    "# Cryptocurrency Versus the Stock Market: Titans Collide\n",
    "\n",
    "\n",
    "Capstone 1 project for Galvanize Data Science Immersive\n",
    "By Shaunil Maharaj"
   ]
  },
  {
   "cell_type": "markdown",
   "metadata": {},
   "source": [
    "## Introduction\n",
    "\n",
    "On January 25th, 2020, the Dow Jones traded above 20,000 for the first time, marking an important milestone in financial markets. Soon after, on February 5th, another important milestone was achieved for Bitcoin, having completed over 500 million transactions in it's 11 year history. What does all this mean to common investor? Should a new prospect invest in cryptocurrency or in the stock market?\n",
    "\n",
    "We will compare the Dow Jones, S & P 500, and New York Stock Exchange growth with the growth of Bitcoin, Etherium, and XRP. We will also make comparisons with historical price data for gold. We will use this data to graph a 200 week moving average to identify when prices bottom out, a 2 year moving average to gauge long term investment viability, and a mvrv z-score to find periods where each index is under or over valued from it's fair price."
   ]
  },
  {
   "cell_type": "markdown",
   "metadata": {},
   "source": [
    "### Data"
   ]
  },
  {
   "cell_type": "markdown",
   "metadata": {},
   "source": [
    "The data comes from yahoo finance, each category will come in a seperate csv which includes data, opening, and closing prices. From here we can make all manner of calculation."
   ]
  },
  {
   "cell_type": "markdown",
   "metadata": {},
   "source": [
    "### Goals\n",
    "\n",
    "To identify if cryptocurrency should be considered a serious investment oppurtunity."
   ]
  },
  {
   "cell_type": "markdown",
   "metadata": {},
   "source": [
    "### Data Description\n",
    "\n",
    "The data has come from yahoo finance. It is historical data for the past 5 years for each index. Etherium and XRP are newer cryptocurrencies, however, there is enough data to complete a 200 week moving average to gauge periods of slow growth expected with a new crypto.\n",
    "\n",
    "We will have to create columns of data for the change of rate and the volativity."
   ]
  },
  {
   "cell_type": "markdown",
   "metadata": {},
   "source": [
    "## Exploratory Data Analysis"
   ]
  },
  {
   "cell_type": "markdown",
   "metadata": {},
   "source": [
    "### Cryptocurrency"
   ]
  },
  {
   "cell_type": "markdown",
   "metadata": {},
   "source": [
    "### Dow Jones"
   ]
  },
  {
   "cell_type": "markdown",
   "metadata": {},
   "source": [
    "### FAANG"
   ]
  },
  {
   "cell_type": "markdown",
   "metadata": {},
   "source": [
    "### Gold"
   ]
  },
  {
   "cell_type": "markdown",
   "metadata": {},
   "source": [
    "## Hypothesis Tests"
   ]
  },
  {
   "cell_type": "markdown",
   "metadata": {},
   "source": [
    "# References"
   ]
  }
 ],
 "metadata": {
  "kernelspec": {
   "display_name": "Python 3",
   "language": "python",
   "name": "python3"
  },
  "language_info": {
   "codemirror_mode": {
    "name": "ipython",
    "version": 3
   },
   "file_extension": ".py",
   "mimetype": "text/x-python",
   "name": "python",
   "nbconvert_exporter": "python",
   "pygments_lexer": "ipython3",
   "version": "3.7.4"
  }
 },
 "nbformat": 4,
 "nbformat_minor": 4
}
